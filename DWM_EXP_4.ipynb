{
  "nbformat": 4,
  "nbformat_minor": 0,
  "metadata": {
    "colab": {
      "provenance": [],
      "authorship_tag": "ABX9TyOY0b2346fixgOhiGFpeJwm",
      "include_colab_link": true
    },
    "kernelspec": {
      "name": "python3",
      "display_name": "Python 3"
    },
    "language_info": {
      "name": "python"
    }
  },
  "cells": [
    {
      "cell_type": "markdown",
      "metadata": {
        "id": "view-in-github",
        "colab_type": "text"
      },
      "source": [
        "<a href=\"https://colab.research.google.com/github/codm12112/DWM-SIT-PRACTICAL/blob/main/DWM_EXP_4.ipynb\" target=\"_parent\"><img src=\"https://colab.research.google.com/assets/colab-badge.svg\" alt=\"Open In Colab\"/></a>"
      ]
    },
    {
      "cell_type": "code",
      "execution_count": 1,
      "metadata": {
        "colab": {
          "base_uri": "https://localhost:8080/"
        },
        "id": "dfFWjd2fLezD",
        "outputId": "f51facbc-6f7a-4b83-ec36-462876dfe99c"
      },
      "outputs": [
        {
          "output_type": "stream",
          "name": "stdout",
          "text": [
            "Hello\n",
            "[[   15     3 57000]\n",
            " [   16     1 40200]\n",
            " [   12     1 21450]\n",
            " ...\n",
            " [   15     1 39150]\n",
            " [   12     1 21450]\n",
            " [   12     1 29400]]\n",
            "[[   15     3 57000]\n",
            " [   16     1 40200]\n",
            " [   12     1 21450]\n",
            " ...\n",
            " [   15     1 39150]\n",
            " [   12     1 21450]\n",
            " [   12     1 29400]]\n"
          ]
        }
      ],
      "source": [
        "import pandas as pd\n",
        "import numpy as np\n",
        "print('Hello')\n",
        "\n",
        "#Cell 1\n",
        "dataset = pd.read_excel('/Employee data.xlsx')\n",
        "\n",
        "#Cell 2\n",
        "dataset.isnull().sum()\n",
        "\n",
        "dataset\n",
        "\n",
        "x=dataset.iloc[:,3:6].values\n",
        "x\n",
        "\n",
        "from sklearn.impute import SimpleImputer\n",
        "imputer = SimpleImputer(missing_values = 'NaN', strategy='median')\n",
        "imputer = SimpleImputer().fit(x[:,1:3])\n",
        "x[:,1:3]=imputer.transform(x[:,1:3])\n",
        "print(x)\n",
        "\n",
        "from sklearn.impute import SimpleImputer\n",
        "imputer = SimpleImputer(missing_values = 'NaN', strategy='most_frequent')\n",
        "imputer = SimpleImputer().fit(x[:,1:3])\n",
        "x[:,1:3]=imputer.transform(x[:,1:3])\n",
        "print(x)"
      ]
    }
  ]
}