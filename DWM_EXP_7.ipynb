{
  "nbformat": 4,
  "nbformat_minor": 0,
  "metadata": {
    "colab": {
      "provenance": [],
      "authorship_tag": "ABX9TyOOc02Lzu+kYvrWaaoUo7ij",
      "include_colab_link": true
    },
    "kernelspec": {
      "name": "python3",
      "display_name": "Python 3"
    },
    "language_info": {
      "name": "python"
    }
  },
  "cells": [
    {
      "cell_type": "markdown",
      "metadata": {
        "id": "view-in-github",
        "colab_type": "text"
      },
      "source": [
        "<a href=\"https://colab.research.google.com/github/codm12112/DWM-SIT-PRACTICAL/blob/main/DWM_EXP_7.ipynb\" target=\"_parent\"><img src=\"https://colab.research.google.com/assets/colab-badge.svg\" alt=\"Open In Colab\"/></a>"
      ]
    },
    {
      "cell_type": "code",
      "execution_count": 1,
      "metadata": {
        "colab": {
          "base_uri": "https://localhost:8080/"
        },
        "id": "40hgBNfVVMIw",
        "outputId": "3c0cc75d-52da-49fc-e9aa-89cbc9348328"
      },
      "outputs": [
        {
          "output_type": "stream",
          "name": "stdout",
          "text": [
            "Collecting apyori\n",
            "  Downloading apyori-1.1.2.tar.gz (8.6 kB)\n",
            "  Preparing metadata (setup.py) ... \u001b[?25l\u001b[?25hdone\n",
            "Building wheels for collected packages: apyori\n",
            "  Building wheel for apyori (setup.py) ... \u001b[?25l\u001b[?25hdone\n",
            "  Created wheel for apyori: filename=apyori-1.1.2-py3-none-any.whl size=5954 sha256=4fa86e975116ba3f17b2c1fb02832e94d8bc6ec782f791346c80811066717057\n",
            "  Stored in directory: /root/.cache/pip/wheels/77/3d/a6/d317a6fb32be58a602b1e8c6b5d6f31f79322da554cad2a5ea\n",
            "Successfully built apyori\n",
            "Installing collected packages: apyori\n",
            "Successfully installed apyori-1.1.2\n"
          ]
        }
      ],
      "source": [
        "!pip install apyori\n"
      ]
    },
    {
      "cell_type": "code",
      "source": [
        "import numpy as np\n",
        "import pandas as pd\n",
        "from apyori import apriori\n",
        "\n",
        "#Load the dataset\n",
        "store_data=pd.read_excel('/content/Employee data.xlsx', header=None)\n",
        "\n",
        "#have a look at the dataset\n",
        "print(store_data)\n",
        "\n",
        "#find the shape of the dataset\n",
        "store_data.shape\n",
        "\n",
        "records = []\n",
        "for i in range(0,22):\n",
        "    records.append([str(store_data.values[i,j]) for j in range(0,6)])\n",
        "\n",
        "records\n",
        "\n",
        "#Building the first apriori model\n",
        "association_rules = apriori(records, min_support = 0.50, min_confidence = 0.7, min_lift = 1.2, min_length = 2)\n",
        "association_results =  list(association_rules)\n",
        "\n",
        "#print the number of rules\n",
        "print(len(association_results))\n",
        "\n",
        "#have a glance at the rule\n",
        "print(association_results)"
      ],
      "metadata": {
        "colab": {
          "base_uri": "https://localhost:8080/"
        },
        "id": "RjXAgANMVbZr",
        "outputId": "a056fc8c-843e-4f46-a42e-b6578b1cd122"
      },
      "execution_count": 3,
      "outputs": [
        {
          "output_type": "stream",
          "name": "stdout",
          "text": [
            "       0       1                    2     3       4       5         6  \\\n",
            "0     id  gender                bdate  educ  jobcat  salary  salbegin   \n",
            "1      1       m  1952-02-03 00:00:00    15       3   57000     27000   \n",
            "2      2       m  1958-05-23 00:00:00    16       1   40200     18750   \n",
            "3      3       f  1929-07-26 00:00:00    12       1   21450     12000   \n",
            "4      4       f  1947-04-15 00:00:00     8       1   21900     13200   \n",
            "..   ...     ...                  ...   ...     ...     ...       ...   \n",
            "470  470       m  1964-01-22 00:00:00    12       1   26250     15750   \n",
            "471  471       m  1966-08-03 00:00:00    15       1   26400     15750   \n",
            "472  472       m  1966-02-21 00:00:00    15       1   39150     15750   \n",
            "473  473       f  1937-11-25 00:00:00    12       1   21450     12750   \n",
            "474  474       f  1968-11-05 00:00:00    12       1   29400     14250   \n",
            "\n",
            "           7        8         9  \n",
            "0    jobtime  prevexp  minority  \n",
            "1         98      144         0  \n",
            "2         98       36         0  \n",
            "3         98      381         0  \n",
            "4         98      190         0  \n",
            "..       ...      ...       ...  \n",
            "470       64       69         1  \n",
            "471       64       32         1  \n",
            "472       63       46         0  \n",
            "473       63      139         0  \n",
            "474       63        9         0  \n",
            "\n",
            "[475 rows x 10 columns]\n",
            "0\n",
            "[]\n"
          ]
        }
      ]
    }
  ]
}